{
  "nbformat": 4,
  "nbformat_minor": 0,
  "metadata": {
    "colab": {
      "provenance": [],
      "include_colab_link": true
    },
    "kernelspec": {
      "name": "python3",
      "display_name": "Python 3"
    },
    "language_info": {
      "name": "python"
    }
  },
  "cells": [
    {
      "cell_type": "markdown",
      "metadata": {
        "id": "view-in-github",
        "colab_type": "text"
      },
      "source": [
        "<a href=\"https://colab.research.google.com/github/debugginglife365/GAS_Practice/blob/main/Master.ipynb\" target=\"_parent\"><img src=\"https://colab.research.google.com/assets/colab-badge.svg\" alt=\"Open In Colab\"/></a>"
      ]
    },
    {
      "cell_type": "code",
      "execution_count": null,
      "metadata": {
        "id": "WA-HuN9GxaOp"
      },
      "outputs": [],
      "source": [
        "# !pip install --upgrade gspread"
      ]
    },
    {
      "cell_type": "code",
      "source": [
        "from google.colab import auth\n",
        "auth.authenticate_user()\n",
        "\n",
        "import gspread\n",
        "from google.auth import default\n",
        "import pandas as pd\n",
        "creds, _ = default()\n",
        "\n",
        "gc = gspread.authorize(creds)\n"
      ],
      "metadata": {
        "id": "hdlyRdOO4hTj"
      },
      "execution_count": null,
      "outputs": []
    },
    {
      "cell_type": "code",
      "source": [
        "# Import PyDrive and associated libraries.\n",
        "# This only needs to be done once per notebook.\n",
        "from pydrive.auth import GoogleAuth\n",
        "from pydrive.drive import GoogleDrive\n",
        "from google.colab import auth\n",
        "from oauth2client.client import GoogleCredentials\n",
        "\n",
        "# Authenticate and create the PyDrive client.\n",
        "# This only needs to be done once per notebook.\n",
        "auth.authenticate_user()\n",
        "gauth = GoogleAuth()\n",
        "gauth.credentials = GoogleCredentials.get_application_default()\n",
        "drive = GoogleDrive(gauth)\n"
      ],
      "metadata": {
        "id": "tzjYZgNO4hcs"
      },
      "execution_count": null,
      "outputs": []
    },
    {
      "cell_type": "code",
      "source": [
        "listOfFrames = []"
      ],
      "metadata": {
        "id": "8gPd5jXx4hhW"
      },
      "execution_count": null,
      "outputs": []
    },
    {
      "cell_type": "code",
      "source": [
        "# List .txt files in the root.\n",
        "#\n",
        "# Search query reference:\n",
        "# https://developers.google.com/drive/v2/web/search-parameters\n",
        "listed = drive.ListFile({'q': \"'1iipu2E8VIy1t47UtoYL0m5TzkvxyfOKR' in parents and mimeType='application/vnd.google-apps.spreadsheet'\"}).GetList()\n",
        "for file in listed:\n",
        "    worksheet = gc.open_by_key(file['id']).get_worksheet(0)\n",
        "    rows = worksheet.get_all_values()\n",
        "    df = pd.DataFrame.from_records(rows[1:],columns=rows[0])\n",
        "    listOfFrames.append(df)\n",
        "\n",
        "print(file['id'])\n",
        "print('title {}, id {}'.format(file['title'], file['id']))"
      ],
      "metadata": {
        "id": "uYmT_kY04hja",
        "colab": {
          "base_uri": "https://localhost:8080/"
        },
        "outputId": "7141e27c-4a1c-4847-ed3d-50d3037e571d"
      },
      "execution_count": null,
      "outputs": [
        {
          "output_type": "stream",
          "name": "stdout",
          "text": [
            "1Iv2cyw8PjnMPw6eq2tH7OW5pGbWsigIKLE9rHnzfN1U\n",
            "title Backup_20230607, id 1Iv2cyw8PjnMPw6eq2tH7OW5pGbWsigIKLE9rHnzfN1U\n"
          ]
        }
      ]
    },
    {
      "cell_type": "code",
      "source": [
        "combinedDF = pd.concat(listOfFrames)\n",
        "combinedDF"
      ],
      "metadata": {
        "id": "4-kZQ6IQ4hn1",
        "colab": {
          "base_uri": "https://localhost:8080/",
          "height": 423
        },
        "outputId": "13d994a4-6a92-448d-b346-48d2214fbc3f"
      },
      "execution_count": null,
      "outputs": [
        {
          "output_type": "execute_result",
          "data": {
            "text/plain": [
              "                      Account  AuxStatus AuxReason    Start_Timestamp  \\\n",
              "0           doha.kim@tdcx.com      Start            6/14/2023 7:49:17   \n",
              "1         soojin.kim@tdcx.com      Start            6/14/2023 7:58:03   \n",
              "2           doha.kim@tdcx.com  Helpshift            6/14/2023 8:00:05   \n",
              "3         soojin.kim@tdcx.com  Helpshift            6/14/2023 8:13:57   \n",
              "4     Junseong.hwang@tdcx.com      Start            6/14/2023 8:48:23   \n",
              "..                        ...        ...       ...                ...   \n",
              "128       junsu.park@tdcx.com  Helpshift            6/7/2023 20:30:34   \n",
              "129  woongcheol.shin@tdcx.com      Break            6/7/2023 20:34:42   \n",
              "130  woongcheol.shin@tdcx.com  Helpshift            6/7/2023 20:47:58   \n",
              "131       junsu.park@tdcx.com        End            6/7/2023 22:00:38   \n",
              "132  woongcheol.shin@tdcx.com        End            6/7/2023 22:00:44   \n",
              "\n",
              "          End_Timestamp     Duration       Date       Week              Month  \\\n",
              "0     6/14/2023 8:00:05  12:10:48 AM  6/14/2023  6/12/2023   6/1/2023 7:49:17   \n",
              "1     6/14/2023 8:13:57  12:15:54 AM  6/14/2023  6/12/2023   6/1/2023 7:58:03   \n",
              "2     6/14/2023 9:00:31   1:00:26 AM  6/14/2023  6/12/2023   6/1/2023 8:00:05   \n",
              "3    6/14/2023 10:40:59   2:27:02 AM  6/14/2023  6/12/2023   6/1/2023 8:13:57   \n",
              "4     6/14/2023 8:49:11  12:00:48 AM  6/14/2023  6/12/2023   6/1/2023 8:48:23   \n",
              "..                  ...          ...        ...        ...                ...   \n",
              "128   6/7/2023 22:00:38   1:30:04 AM   6/7/2023   6/5/2023  6/1/2023 20:30:34   \n",
              "129   6/7/2023 20:47:58  12:13:16 AM   6/7/2023   6/5/2023  6/1/2023 20:34:42   \n",
              "130   6/7/2023 22:00:44   1:12:46 AM   6/7/2023   6/5/2023  6/1/2023 20:47:58   \n",
              "131                                    6/7/2023   6/5/2023  6/1/2023 22:00:38   \n",
              "132                                    6/7/2023   6/5/2023  6/1/2023 22:00:44   \n",
              "\n",
              "                 Name Wave  \n",
              "0            Doha Kim       \n",
              "1          Soojin Kim       \n",
              "2            Doha Kim       \n",
              "3          Soojin Kim       \n",
              "4      Junseong Hwang       \n",
              "..                ...  ...  \n",
              "128       Jun Su Park       \n",
              "129  Woong Cheol Shin       \n",
              "130  Woong Cheol Shin       \n",
              "131       Jun Su Park       \n",
              "132  Woong Cheol Shin       \n",
              "\n",
              "[2565 rows x 11 columns]"
            ],
            "text/html": [
              "\n",
              "  <div id=\"df-23e3ae18-aab6-4736-b421-fd7b0c1722a0\">\n",
              "    <div class=\"colab-df-container\">\n",
              "      <div>\n",
              "<style scoped>\n",
              "    .dataframe tbody tr th:only-of-type {\n",
              "        vertical-align: middle;\n",
              "    }\n",
              "\n",
              "    .dataframe tbody tr th {\n",
              "        vertical-align: top;\n",
              "    }\n",
              "\n",
              "    .dataframe thead th {\n",
              "        text-align: right;\n",
              "    }\n",
              "</style>\n",
              "<table border=\"1\" class=\"dataframe\">\n",
              "  <thead>\n",
              "    <tr style=\"text-align: right;\">\n",
              "      <th></th>\n",
              "      <th>Account</th>\n",
              "      <th>AuxStatus</th>\n",
              "      <th>AuxReason</th>\n",
              "      <th>Start_Timestamp</th>\n",
              "      <th>End_Timestamp</th>\n",
              "      <th>Duration</th>\n",
              "      <th>Date</th>\n",
              "      <th>Week</th>\n",
              "      <th>Month</th>\n",
              "      <th>Name</th>\n",
              "      <th>Wave</th>\n",
              "    </tr>\n",
              "  </thead>\n",
              "  <tbody>\n",
              "    <tr>\n",
              "      <th>0</th>\n",
              "      <td>doha.kim@tdcx.com</td>\n",
              "      <td>Start</td>\n",
              "      <td></td>\n",
              "      <td>6/14/2023 7:49:17</td>\n",
              "      <td>6/14/2023 8:00:05</td>\n",
              "      <td>12:10:48 AM</td>\n",
              "      <td>6/14/2023</td>\n",
              "      <td>6/12/2023</td>\n",
              "      <td>6/1/2023 7:49:17</td>\n",
              "      <td>Doha Kim</td>\n",
              "      <td></td>\n",
              "    </tr>\n",
              "    <tr>\n",
              "      <th>1</th>\n",
              "      <td>soojin.kim@tdcx.com</td>\n",
              "      <td>Start</td>\n",
              "      <td></td>\n",
              "      <td>6/14/2023 7:58:03</td>\n",
              "      <td>6/14/2023 8:13:57</td>\n",
              "      <td>12:15:54 AM</td>\n",
              "      <td>6/14/2023</td>\n",
              "      <td>6/12/2023</td>\n",
              "      <td>6/1/2023 7:58:03</td>\n",
              "      <td>Soojin Kim</td>\n",
              "      <td></td>\n",
              "    </tr>\n",
              "    <tr>\n",
              "      <th>2</th>\n",
              "      <td>doha.kim@tdcx.com</td>\n",
              "      <td>Helpshift</td>\n",
              "      <td></td>\n",
              "      <td>6/14/2023 8:00:05</td>\n",
              "      <td>6/14/2023 9:00:31</td>\n",
              "      <td>1:00:26 AM</td>\n",
              "      <td>6/14/2023</td>\n",
              "      <td>6/12/2023</td>\n",
              "      <td>6/1/2023 8:00:05</td>\n",
              "      <td>Doha Kim</td>\n",
              "      <td></td>\n",
              "    </tr>\n",
              "    <tr>\n",
              "      <th>3</th>\n",
              "      <td>soojin.kim@tdcx.com</td>\n",
              "      <td>Helpshift</td>\n",
              "      <td></td>\n",
              "      <td>6/14/2023 8:13:57</td>\n",
              "      <td>6/14/2023 10:40:59</td>\n",
              "      <td>2:27:02 AM</td>\n",
              "      <td>6/14/2023</td>\n",
              "      <td>6/12/2023</td>\n",
              "      <td>6/1/2023 8:13:57</td>\n",
              "      <td>Soojin Kim</td>\n",
              "      <td></td>\n",
              "    </tr>\n",
              "    <tr>\n",
              "      <th>4</th>\n",
              "      <td>Junseong.hwang@tdcx.com</td>\n",
              "      <td>Start</td>\n",
              "      <td></td>\n",
              "      <td>6/14/2023 8:48:23</td>\n",
              "      <td>6/14/2023 8:49:11</td>\n",
              "      <td>12:00:48 AM</td>\n",
              "      <td>6/14/2023</td>\n",
              "      <td>6/12/2023</td>\n",
              "      <td>6/1/2023 8:48:23</td>\n",
              "      <td>Junseong Hwang</td>\n",
              "      <td></td>\n",
              "    </tr>\n",
              "    <tr>\n",
              "      <th>...</th>\n",
              "      <td>...</td>\n",
              "      <td>...</td>\n",
              "      <td>...</td>\n",
              "      <td>...</td>\n",
              "      <td>...</td>\n",
              "      <td>...</td>\n",
              "      <td>...</td>\n",
              "      <td>...</td>\n",
              "      <td>...</td>\n",
              "      <td>...</td>\n",
              "      <td>...</td>\n",
              "    </tr>\n",
              "    <tr>\n",
              "      <th>128</th>\n",
              "      <td>junsu.park@tdcx.com</td>\n",
              "      <td>Helpshift</td>\n",
              "      <td></td>\n",
              "      <td>6/7/2023 20:30:34</td>\n",
              "      <td>6/7/2023 22:00:38</td>\n",
              "      <td>1:30:04 AM</td>\n",
              "      <td>6/7/2023</td>\n",
              "      <td>6/5/2023</td>\n",
              "      <td>6/1/2023 20:30:34</td>\n",
              "      <td>Jun Su Park</td>\n",
              "      <td></td>\n",
              "    </tr>\n",
              "    <tr>\n",
              "      <th>129</th>\n",
              "      <td>woongcheol.shin@tdcx.com</td>\n",
              "      <td>Break</td>\n",
              "      <td></td>\n",
              "      <td>6/7/2023 20:34:42</td>\n",
              "      <td>6/7/2023 20:47:58</td>\n",
              "      <td>12:13:16 AM</td>\n",
              "      <td>6/7/2023</td>\n",
              "      <td>6/5/2023</td>\n",
              "      <td>6/1/2023 20:34:42</td>\n",
              "      <td>Woong Cheol Shin</td>\n",
              "      <td></td>\n",
              "    </tr>\n",
              "    <tr>\n",
              "      <th>130</th>\n",
              "      <td>woongcheol.shin@tdcx.com</td>\n",
              "      <td>Helpshift</td>\n",
              "      <td></td>\n",
              "      <td>6/7/2023 20:47:58</td>\n",
              "      <td>6/7/2023 22:00:44</td>\n",
              "      <td>1:12:46 AM</td>\n",
              "      <td>6/7/2023</td>\n",
              "      <td>6/5/2023</td>\n",
              "      <td>6/1/2023 20:47:58</td>\n",
              "      <td>Woong Cheol Shin</td>\n",
              "      <td></td>\n",
              "    </tr>\n",
              "    <tr>\n",
              "      <th>131</th>\n",
              "      <td>junsu.park@tdcx.com</td>\n",
              "      <td>End</td>\n",
              "      <td></td>\n",
              "      <td>6/7/2023 22:00:38</td>\n",
              "      <td></td>\n",
              "      <td></td>\n",
              "      <td>6/7/2023</td>\n",
              "      <td>6/5/2023</td>\n",
              "      <td>6/1/2023 22:00:38</td>\n",
              "      <td>Jun Su Park</td>\n",
              "      <td></td>\n",
              "    </tr>\n",
              "    <tr>\n",
              "      <th>132</th>\n",
              "      <td>woongcheol.shin@tdcx.com</td>\n",
              "      <td>End</td>\n",
              "      <td></td>\n",
              "      <td>6/7/2023 22:00:44</td>\n",
              "      <td></td>\n",
              "      <td></td>\n",
              "      <td>6/7/2023</td>\n",
              "      <td>6/5/2023</td>\n",
              "      <td>6/1/2023 22:00:44</td>\n",
              "      <td>Woong Cheol Shin</td>\n",
              "      <td></td>\n",
              "    </tr>\n",
              "  </tbody>\n",
              "</table>\n",
              "<p>2565 rows × 11 columns</p>\n",
              "</div>\n",
              "      <button class=\"colab-df-convert\" onclick=\"convertToInteractive('df-23e3ae18-aab6-4736-b421-fd7b0c1722a0')\"\n",
              "              title=\"Convert this dataframe to an interactive table.\"\n",
              "              style=\"display:none;\">\n",
              "        \n",
              "  <svg xmlns=\"http://www.w3.org/2000/svg\" height=\"24px\"viewBox=\"0 0 24 24\"\n",
              "       width=\"24px\">\n",
              "    <path d=\"M0 0h24v24H0V0z\" fill=\"none\"/>\n",
              "    <path d=\"M18.56 5.44l.94 2.06.94-2.06 2.06-.94-2.06-.94-.94-2.06-.94 2.06-2.06.94zm-11 1L8.5 8.5l.94-2.06 2.06-.94-2.06-.94L8.5 2.5l-.94 2.06-2.06.94zm10 10l.94 2.06.94-2.06 2.06-.94-2.06-.94-.94-2.06-.94 2.06-2.06.94z\"/><path d=\"M17.41 7.96l-1.37-1.37c-.4-.4-.92-.59-1.43-.59-.52 0-1.04.2-1.43.59L10.3 9.45l-7.72 7.72c-.78.78-.78 2.05 0 2.83L4 21.41c.39.39.9.59 1.41.59.51 0 1.02-.2 1.41-.59l7.78-7.78 2.81-2.81c.8-.78.8-2.07 0-2.86zM5.41 20L4 18.59l7.72-7.72 1.47 1.35L5.41 20z\"/>\n",
              "  </svg>\n",
              "      </button>\n",
              "      \n",
              "  <style>\n",
              "    .colab-df-container {\n",
              "      display:flex;\n",
              "      flex-wrap:wrap;\n",
              "      gap: 12px;\n",
              "    }\n",
              "\n",
              "    .colab-df-convert {\n",
              "      background-color: #E8F0FE;\n",
              "      border: none;\n",
              "      border-radius: 50%;\n",
              "      cursor: pointer;\n",
              "      display: none;\n",
              "      fill: #1967D2;\n",
              "      height: 32px;\n",
              "      padding: 0 0 0 0;\n",
              "      width: 32px;\n",
              "    }\n",
              "\n",
              "    .colab-df-convert:hover {\n",
              "      background-color: #E2EBFA;\n",
              "      box-shadow: 0px 1px 2px rgba(60, 64, 67, 0.3), 0px 1px 3px 1px rgba(60, 64, 67, 0.15);\n",
              "      fill: #174EA6;\n",
              "    }\n",
              "\n",
              "    [theme=dark] .colab-df-convert {\n",
              "      background-color: #3B4455;\n",
              "      fill: #D2E3FC;\n",
              "    }\n",
              "\n",
              "    [theme=dark] .colab-df-convert:hover {\n",
              "      background-color: #434B5C;\n",
              "      box-shadow: 0px 1px 3px 1px rgba(0, 0, 0, 0.15);\n",
              "      filter: drop-shadow(0px 1px 2px rgba(0, 0, 0, 0.3));\n",
              "      fill: #FFFFFF;\n",
              "    }\n",
              "  </style>\n",
              "\n",
              "      <script>\n",
              "        const buttonEl =\n",
              "          document.querySelector('#df-23e3ae18-aab6-4736-b421-fd7b0c1722a0 button.colab-df-convert');\n",
              "        buttonEl.style.display =\n",
              "          google.colab.kernel.accessAllowed ? 'block' : 'none';\n",
              "\n",
              "        async function convertToInteractive(key) {\n",
              "          const element = document.querySelector('#df-23e3ae18-aab6-4736-b421-fd7b0c1722a0');\n",
              "          const dataTable =\n",
              "            await google.colab.kernel.invokeFunction('convertToInteractive',\n",
              "                                                     [key], {});\n",
              "          if (!dataTable) return;\n",
              "\n",
              "          const docLinkHtml = 'Like what you see? Visit the ' +\n",
              "            '<a target=\"_blank\" href=https://colab.research.google.com/notebooks/data_table.ipynb>data table notebook</a>'\n",
              "            + ' to learn more about interactive tables.';\n",
              "          element.innerHTML = '';\n",
              "          dataTable['output_type'] = 'display_data';\n",
              "          await google.colab.output.renderOutput(dataTable, element);\n",
              "          const docLink = document.createElement('div');\n",
              "          docLink.innerHTML = docLinkHtml;\n",
              "          element.appendChild(docLink);\n",
              "        }\n",
              "      </script>\n",
              "    </div>\n",
              "  </div>\n",
              "  "
            ]
          },
          "metadata": {},
          "execution_count": 24
        }
      ]
    },
    {
      "cell_type": "code",
      "source": [
        "df = pd.DataFrame(combinedDF)"
      ],
      "metadata": {
        "id": "zpfueQIGDF9S"
      },
      "execution_count": null,
      "outputs": []
    },
    {
      "cell_type": "code",
      "source": [
        "import numpy as np\n",
        "df = df.replace([np.inf,-np.inf],np.nan)"
      ],
      "metadata": {
        "id": "RuT7hyrsHswt"
      },
      "execution_count": null,
      "outputs": []
    },
    {
      "cell_type": "markdown",
      "source": [],
      "metadata": {
        "id": "hpCLmP3YLKaT"
      }
    },
    {
      "cell_type": "code",
      "source": [
        "df['Date'] = pd.to_datetime(df['Date'])\n",
        "df['Month'] = pd.to_datetime(df['Month'])"
      ],
      "metadata": {
        "id": "ae0dD4pJ-ISX"
      },
      "execution_count": null,
      "outputs": []
    },
    {
      "cell_type": "code",
      "source": [
        "df = df[df['Date'].notna()]"
      ],
      "metadata": {
        "id": "5pPvqLQrIDgV"
      },
      "execution_count": null,
      "outputs": []
    },
    {
      "cell_type": "code",
      "source": [
        "df.drop_duplicates()\n",
        "df.dropna(how='all', inplace=True)\n",
        "df = df.sort_values(by='Date', ascending=False)"
      ],
      "metadata": {
        "id": "jGsHHERfCvDG",
        "colab": {
          "base_uri": "https://localhost:8080/"
        },
        "outputId": "8e8658f2-c18e-49cf-ef73-7057387dc0a4"
      },
      "execution_count": null,
      "outputs": [
        {
          "output_type": "stream",
          "name": "stderr",
          "text": [
            "<ipython-input-29-ebd2c9d22706>:2: SettingWithCopyWarning: \n",
            "A value is trying to be set on a copy of a slice from a DataFrame\n",
            "\n",
            "See the caveats in the documentation: https://pandas.pydata.org/pandas-docs/stable/user_guide/indexing.html#returning-a-view-versus-a-copy\n",
            "  df.dropna(how='all', inplace=True)\n"
          ]
        }
      ]
    },
    {
      "cell_type": "code",
      "source": [
        "df['Date'] = df['Date'].dt.strftime('%m/%d/%Y')\n",
        "df['Month'] = df['Month'].dt.strftime('%m/%d/%Y')"
      ],
      "metadata": {
        "id": "T6YE85w-KKdD"
      },
      "execution_count": null,
      "outputs": []
    },
    {
      "cell_type": "code",
      "source": [
        "wsMaster = gc.open_by_key(\"1N7xhmlNfGcHGHbw34wLi_SPyZoU13N0kBPh69MHCZjw\").worksheet(\"Master\")"
      ],
      "metadata": {
        "id": "9UcOIWSKa62-"
      },
      "execution_count": null,
      "outputs": []
    },
    {
      "cell_type": "code",
      "source": [
        "import gspread\n",
        "from gspread_dataframe import set_with_dataframe\n",
        "\n",
        "set_with_dataframe(wsMaster, df)"
      ],
      "metadata": {
        "id": "QC6Rg2It_Gmt"
      },
      "execution_count": null,
      "outputs": []
    },
    {
      "cell_type": "code",
      "source": [],
      "metadata": {
        "id": "Y6Qh9UPHIOkd"
      },
      "execution_count": null,
      "outputs": []
    }
  ]
}